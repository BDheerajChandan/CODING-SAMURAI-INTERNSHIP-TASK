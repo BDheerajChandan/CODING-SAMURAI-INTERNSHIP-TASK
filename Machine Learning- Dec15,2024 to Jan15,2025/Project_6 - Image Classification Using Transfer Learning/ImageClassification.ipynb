{
 "cells": [
  {
   "cell_type": "code",
   "execution_count": null,
   "metadata": {},
   "outputs": [],
   "source": [
    "\"\"\"\n",
    "Description: Use a pre-trained convolutional neural network (like ResNet or VGG16) to classify images from a custom dataset.\n",
    "• Skills: Deep learning, transfer learning, image classification.\n",
    "\"\"\""
   ]
  },
  {
   "cell_type": "code",
   "execution_count": null,
   "metadata": {},
   "outputs": [],
   "source": []
  }
 ],
 "metadata": {
  "kernelspec": {
   "display_name": "base",
   "language": "python",
   "name": "python3"
  },
  "language_info": {
   "name": "python",
   "version": "3.11.4"
  }
 },
 "nbformat": 4,
 "nbformat_minor": 2
}
