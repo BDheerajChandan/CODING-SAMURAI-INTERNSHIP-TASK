{
 "cells": [
  {
   "cell_type": "code",
   "execution_count": 1,
   "metadata": {},
   "outputs": [
    {
     "data": {
      "text/plain": [
       "'\\nDescription: Use a pre-trained convolutional neural network (like ResNet or VGG16) to classify images from a custom dataset.\\n• Skills: Deep learning, transfer learning, image classification.\\n\\nhttps://www.youtube.com/watch?v=JcU72smpLJk\\n'"
      ]
     },
     "execution_count": 1,
     "metadata": {},
     "output_type": "execute_result"
    }
   ],
   "source": [
    "\"\"\"\n",
    "Description: Use a pre-trained convolutional neural network (like ResNet or VGG16) to classify images from a custom dataset.\n",
    "• Skills: Deep learning, transfer learning, image classification.\n",
    "\n",
    "https://www.youtube.com/watch?v=JcU72smpLJk\n",
    "\"\"\""
   ]
  },
  {
   "cell_type": "code",
   "execution_count": null,
   "metadata": {},
   "outputs": [],
   "source": []
  }
 ],
 "metadata": {
  "kernelspec": {
   "display_name": "base",
   "language": "python",
   "name": "python3"
  },
  "language_info": {
   "codemirror_mode": {
    "name": "ipython",
    "version": 3
   },
   "file_extension": ".py",
   "mimetype": "text/x-python",
   "name": "python",
   "nbconvert_exporter": "python",
   "pygments_lexer": "ipython3",
   "version": "3.11.4"
  }
 },
 "nbformat": 4,
 "nbformat_minor": 2
}
