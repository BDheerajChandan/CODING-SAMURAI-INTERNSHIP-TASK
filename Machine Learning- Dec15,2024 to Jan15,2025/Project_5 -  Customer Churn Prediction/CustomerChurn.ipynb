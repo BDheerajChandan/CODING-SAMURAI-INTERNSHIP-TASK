{
 "cells": [
  {
   "cell_type": "code",
   "execution_count": 1,
   "metadata": {},
   "outputs": [
    {
     "data": {
      "text/plain": [
       "'\\nDescription: Build a machine learning model to predict whether a customer will churn based on behavioral and demographic data.\\n• Skills: Feature engineering, classification, model tuning.\\n\\nhttps://www.youtube.com/watch?v=MSBY28IJ47U\\n'"
      ]
     },
     "execution_count": 1,
     "metadata": {},
     "output_type": "execute_result"
    }
   ],
   "source": [
    "\"\"\"\n",
    "Description: Build a machine learning model to predict whether a customer will churn based on behavioral and demographic data.\n",
    "• Skills: Feature engineering, classification, model tuning.\n",
    "\n",
    "https://www.youtube.com/watch?v=MSBY28IJ47U\n",
    "\"\"\""
   ]
  },
  {
   "cell_type": "code",
   "execution_count": null,
   "metadata": {},
   "outputs": [],
   "source": []
  }
 ],
 "metadata": {
  "kernelspec": {
   "display_name": "base",
   "language": "python",
   "name": "python3"
  },
  "language_info": {
   "codemirror_mode": {
    "name": "ipython",
    "version": 3
   },
   "file_extension": ".py",
   "mimetype": "text/x-python",
   "name": "python",
   "nbconvert_exporter": "python",
   "pygments_lexer": "ipython3",
   "version": "3.11.4"
  }
 },
 "nbformat": 4,
 "nbformat_minor": 2
}
